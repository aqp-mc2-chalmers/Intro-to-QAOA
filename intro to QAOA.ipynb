{
 "cells": [
  {
   "cell_type": "markdown",
   "id": "5f488d45",
   "metadata": {},
   "source": [
    "# Intro to variational quantum algorithm\n",
    "### Spring 2022 by Hanna Linn\n",
    "\n",
    "Doing a quantum approximate optimisation algorithm (QAOA) for Minimum vertex cover in Pennylane.\n",
    "\n",
    "This tutorial is heavily inspired by: https://pennylane.ai/qml/demos/tutorial_qaoa_intro.html"
   ]
  },
  {
   "cell_type": "markdown",
   "id": "ab6aadf8",
   "metadata": {},
   "source": [
    "### But first let's do some Pennylane basics!"
   ]
  },
  {
   "cell_type": "code",
   "execution_count": 1,
   "id": "2fad7996",
   "metadata": {},
   "outputs": [],
   "source": [
    "import pennylane as qml\n",
    "from pennylane import qaoa\n",
    "from pennylane import numpy as np\n",
    "from matplotlib import pyplot as plt\n",
    "import networkx as nx"
   ]
  },
  {
   "cell_type": "code",
   "execution_count": 27,
   "id": "c2560f90",
   "metadata": {},
   "outputs": [
    {
     "name": "stdout",
     "output_type": "stream",
     "text": [
      "  (1.0) [X0]\n",
      "+ (2.0) [Z1]\n",
      "+ (3.2) [X0 X1]\n"
     ]
    }
   ],
   "source": [
    "# Let's make an super easy Hamiltonian\n",
    "\n",
    "# Qubit registry\n",
    "qubits = range(4)\n",
    "\n",
    "# Define coefficients and operators for our Hamiltonian\n",
    "coeffs = [1.0, 2.0, 3.2]\n",
    "operators = [qml.PauliX(0), qml.PauliZ(1), qml.PauliX(0) @ qml.PauliX(1)] # @ is a tensor product in Pennylane\n",
    "\n",
    "# Make a Hamiltonian, object in Pennylane\n",
    "H = qml.Hamiltonian(coeffs, operators)\n",
    "print(H)"
   ]
  },
  {
   "cell_type": "code",
   "execution_count": 28,
   "id": "60ddbef7",
   "metadata": {},
   "outputs": [
    {
     "name": "stdout",
     "output_type": "stream",
     "text": [
      "Hamiltonian with expectation value on the two qubits in Z:  [-0.41531891  0.9980105 ]\n",
      "\n",
      "0: ──RX(1.00)─╭RXX(3.20)──RX(1.00)─╭RXX(3.20)─┤  <Z>\n",
      "1: ──RZ(2.00)─╰RXX(3.20)──RZ(2.00)─╰RXX(3.20)─┤  <Z>\n"
     ]
    }
   ],
   "source": [
    "# A small circuit\n",
    "\n",
    "dev = qml.device('default.qubit', wires = qubits)\n",
    "\n",
    "@qml.qnode(dev) # decorator telling us to use the devide dev for this circuit\n",
    "def circuit():\n",
    "    qml.ApproxTimeEvolution(H, 1, 2)\n",
    "    return [qml.expval(qml.PauliZ(i)) for i in range(2)] # measurement of expected value of Pauli Z\n",
    "\n",
    "print('Hamiltonian with expectation value on the two qubits in Z: ', circuit())\n",
    "print()\n",
    "\n",
    "# Draw our circuit\n",
    "print(qml.draw(circuit, expansion_strategy = 'device')())"
   ]
  },
  {
   "cell_type": "markdown",
   "id": "67e799b3",
   "metadata": {},
   "source": [
    "### Back to Minimum vertex cover"
   ]
  },
  {
   "cell_type": "code",
   "execution_count": 4,
   "id": "b12af9f0",
   "metadata": {},
   "outputs": [
    {
     "data": {
      "image/png": "[encoded data removed]",
      "text/plain": [
       "<Figure size 432x288 with 1 Axes>"
      ]
     },
     "metadata": {},
     "output_type": "display_data"
    }
   ],
   "source": [
    "# Making a small graph \n",
    "\n",
    "edges = [(0, 1), (1, 2), (2, 0), (2, 3)]\n",
    "graph = nx.Graph(edges)\n",
    "\n",
    "nx.draw(graph, with_labels=True)\n",
    "plt.show()"
   ]
  },
  {
   "cell_type": "code",
   "execution_count": 5,
   "id": "2c1030b1",
   "metadata": {},
   "outputs": [
    {
     "name": "stdout",
     "output_type": "stream",
     "text": [
      "H_cost:\n",
      "  (-0.25) [Z3]\n",
      "+ (0.5) [Z0]\n",
      "+ (0.5) [Z1]\n",
      "+ (1.25) [Z2]\n",
      "+ (0.75) [Z0 Z1]\n",
      "+ (0.75) [Z0 Z2]\n",
      "+ (0.75) [Z1 Z2]\n",
      "+ (0.75) [Z2 Z3]\n",
      "\n",
      "H_mixer:\n",
      "  (1) [X0]\n",
      "+ (1) [X1]\n",
      "+ (1) [X2]\n",
      "+ (1) [X3]\n"
     ]
    }
   ],
   "source": [
    "# Make the Hamiltonians needed for our QAOA\n",
    "\n",
    "H_cost, _ = qaoa.min_vertex_cover(graph, constrained=False)\n",
    "H_mixer = qaoa.x_mixer(qubits)\n",
    "\n",
    "print('H_cost:\\n' + str(H_cost))\n",
    "print()\n",
    "print('H_mixer:\\n' + str(H_mixer))"
   ]
  },
  {
   "cell_type": "code",
   "execution_count": 37,
   "id": "4ccd4122",
   "metadata": {},
   "outputs": [
    {
     "name": "stdout",
     "output_type": "stream",
     "text": [
      "Average cost with gamma=0 and beta=0:\n",
      " 0.0\n",
      "Average cost with gamma=0.5 and beta=0.5:\n",
      " 2.062812981571418\n",
      "\n",
      "0: ──H─╭RZZ(0.00)──RZ(0.00)─╭RZZ(0.00)──RX(0.00)────────────────────────────────────────────┤ ╭<𝓗>\n",
      "1: ──H─╰RZZ(0.00)──RZ(0.00)─│────────────────────╭RZZ(0.00)──RX(0.00)───────────────────────┤ ├<𝓗>\n",
      "2: ──H──────────────────────╰RZZ(0.00)──RZ(0.00)─╰RZZ(0.00)─╭RZZ(0.00)──RX(0.00)────────────┤ ├<𝓗>\n",
      "3: ──H──────────────────────────────────────────────────────╰RZZ(0.00)──RZ(-0.00)──RX(0.00)─┤ ╰<𝓗>\n"
     ]
    }
   ],
   "source": [
    "# Put the Mixer and Cost Hamiltonians in a layer so that we can repeat it\n",
    "def qaoa_layer(gamma, beta):\n",
    "    qaoa.cost_layer(gamma, H_cost)\n",
    "    qaoa.mixer_layer(beta, H_mixer)\n",
    "    \n",
    "# Then repeat it in a circuit with starting in a super position of all bitstrings\n",
    "def circuit(params):     # Gamma and Beta values can be put together to be an array of parameters\n",
    "    for q in qubits:     # To start in a superposition we place a Hadamard on all qubits\n",
    "        qml.Hadamard(wires = q)\n",
    "    qml.layer(qaoa_layer, p, params[0], params[1])\n",
    "    \n",
    "\n",
    "# If we add a expectation value we get a cost function for average cost of the cost Hamiltonian for given parameters\n",
    "@qml.qnode(dev)\n",
    "def average_cost(params):\n",
    "    circuit(params)\n",
    "    return qml.expval(H_cost)\n",
    "\n",
    "\n",
    "# Let's test it!\n",
    "zero_parameters = np.array([[0],[0]])\n",
    "half_parameters = np.array([[0.5],[0.5]])\n",
    "p = 1\n",
    "\n",
    "print('Average cost with gamma=0 and beta=0:\\n', average_cost(zero_parameters))\n",
    "print('Average cost with gamma=0.5 and beta=0.5:\\n', average_cost(half_parameters))\n",
    "\n",
    "# Draw our circuit\n",
    "print()\n",
    "print(qml.draw(average_cost, expansion_strategy = 'device')(zero_parameters))"
   ]
  },
  {
   "cell_type": "code",
   "execution_count": 39,
   "id": "b4182fff",
   "metadata": {},
   "outputs": [
    {
     "name": "stdout",
     "output_type": "stream",
     "text": [
      "0: ──H─╭RZZ(0.75)──RZ(0.50)─╭RZZ(0.75)──RX(1.00)───────────────────────╭RZZ(0.75)──RZ(0.50)\n",
      "1: ──H─╰RZZ(0.75)──RZ(0.50)─│────────────────────╭RZZ(0.75)──RX(1.00)──╰RZZ(0.75)──RZ(0.50)\n",
      "2: ──H──────────────────────╰RZZ(0.75)──RZ(1.25)─╰RZZ(0.75)─╭RZZ(0.75)──RX(1.00)───────────\n",
      "3: ──H──────────────────────────────────────────────────────╰RZZ(0.75)──RZ(-0.25)──RX(1.00)\n",
      "\n",
      "──╭RZZ(0.75)──RX(1.00)───────────────────────╭RZZ(0.75)──RZ(0.50)─╭RZZ(0.75)──RX(1.00)───────────\n",
      "──│────────────────────╭RZZ(0.75)──RX(1.00)──╰RZZ(0.75)──RZ(0.50)─│────────────────────╭RZZ(0.75)\n",
      "──╰RZZ(0.75)──RZ(1.25)─╰RZZ(0.75)─╭RZZ(0.75)──RX(1.00)────────────╰RZZ(0.75)──RZ(1.25)─╰RZZ(0.75)\n",
      "──────────────────────────────────╰RZZ(0.75)──RZ(-0.25)──RX(1.00)────────────────────────────────\n",
      "\n",
      "──────────────────────────────────┤ ╭<𝓗>\n",
      "───RX(1.00)───────────────────────┤ ├<𝓗>\n",
      "──╭RZZ(0.75)──RX(1.00)────────────┤ ├<𝓗>\n",
      "──╰RZZ(0.75)──RZ(-0.25)──RX(1.00)─┤ ╰<𝓗>\n"
     ]
    }
   ],
   "source": [
    "p = 3\n",
    "half_parameters = np.array([[0.5, 0.5, 0.5],[0.5, 0.5, 0.5]])\n",
    "print(qml.draw(average_cost, expansion_strategy = 'device')(half_parameters))"
   ]
  },
  {
   "cell_type": "markdown",
   "id": "8e7152b6",
   "metadata": {},
   "source": [
    "### Energy landscape\n",
    "What should gamma and beta be set to so that the average cost is minimum?\n",
    "We could check all possible values for gamma and beta."
   ]
  },
  {
   "cell_type": "code",
   "execution_count": 41,
   "id": "e972775f",
   "metadata": {},
   "outputs": [],
   "source": [
    "# Do a grid search and plot\n",
    "\n",
    "p = 1 # grid search with p > 2 is messy\n",
    "\n",
    "start_gamma = -2*np.pi\n",
    "stop_gamma = 2*np.pi\n",
    "num_points_gamma = 100\n",
    "\n",
    "start_beta = -2*np.pi\n",
    "stop_beta = 2*np.pi\n",
    "num_points_beta = 100\n",
    "\n",
    "# Gamma\n",
    "X = np.linspace(start_gamma, stop_gamma, num_points_gamma)\n",
    "# Beta\n",
    "Y = np.linspace(start_beta, stop_beta, num_points_beta)\n",
    "\n",
    "# Average cost for each gamma and beta\n",
    "Z = np.zeros((num_points_gamma, num_points_beta))\n",
    "for m,x in enumerate(X):\n",
    "    for l,y in enumerate(Y):\n",
    "        Z[m,l] = average_cost([[float(x)],[float(y)]])\n",
    "\n",
    "# Find best Z\n",
    "i = np.unravel_index(Z.argmin(), Z.shape)"
   ]
  },
  {
   "cell_type": "code",
   "execution_count": 40,
   "id": "455a0e86",
   "metadata": {},
   "outputs": [
    {
     "ename": "TypeError",
     "evalue": "'int' object is not subscriptable",
     "output_type": "error",
     "traceback": [
      "\u001b[0;31m---------------------------------------------------------------------------\u001b[0m",
      "\u001b[0;31mTypeError\u001b[0m                                 Traceback (most recent call last)",
      "\u001b[0;32m/tmp/ipykernel_2054/423472452.py\u001b[0m in \u001b[0;36m<module>\u001b[0;34m\u001b[0m\n\u001b[1;32m     21\u001b[0m         \u001b[0max\u001b[0m\u001b[0;34m.\u001b[0m\u001b[0mview_init\u001b[0m\u001b[0;34m(\u001b[0m\u001b[0mazim\u001b[0m\u001b[0;34m=\u001b[0m\u001b[0;36m0\u001b[0m\u001b[0;34m,\u001b[0m \u001b[0melev\u001b[0m\u001b[0;34m=\u001b[0m\u001b[0;36m90\u001b[0m\u001b[0;34m)\u001b[0m\u001b[0;34m\u001b[0m\u001b[0;34m\u001b[0m\u001b[0m\n\u001b[1;32m     22\u001b[0m \u001b[0;34m\u001b[0m\u001b[0m\n\u001b[0;32m---> 23\u001b[0;31m \u001b[0mplot_energy_landscape\u001b[0m\u001b[0;34m(\u001b[0m\u001b[0mX\u001b[0m\u001b[0;34m,\u001b[0m \u001b[0mY\u001b[0m\u001b[0;34m,\u001b[0m \u001b[0mZ\u001b[0m\u001b[0;34m,\u001b[0m \u001b[0mi\u001b[0m\u001b[0;34m,\u001b[0m \u001b[0mabove\u001b[0m \u001b[0;34m=\u001b[0m \u001b[0;32mFalse\u001b[0m\u001b[0;34m)\u001b[0m\u001b[0;34m\u001b[0m\u001b[0;34m\u001b[0m\u001b[0m\n\u001b[0m",
      "\u001b[0;32m/tmp/ipykernel_2054/423472452.py\u001b[0m in \u001b[0;36mplot_energy_landscape\u001b[0;34m(X, Y, Z, i, above)\u001b[0m\n\u001b[1;32m     13\u001b[0m     \u001b[0max\u001b[0m\u001b[0;34m.\u001b[0m\u001b[0mzaxis\u001b[0m\u001b[0;34m.\u001b[0m\u001b[0mset_label_coords\u001b[0m\u001b[0;34m(\u001b[0m\u001b[0;34m-\u001b[0m\u001b[0;36m1\u001b[0m\u001b[0;34m,\u001b[0m\u001b[0;36m1\u001b[0m\u001b[0;34m)\u001b[0m\u001b[0;34m\u001b[0m\u001b[0;34m\u001b[0m\u001b[0m\n\u001b[1;32m     14\u001b[0m     \u001b[0max\u001b[0m\u001b[0;34m.\u001b[0m\u001b[0mzaxis\u001b[0m\u001b[0;34m.\u001b[0m\u001b[0mset_major_locator\u001b[0m\u001b[0;34m(\u001b[0m\u001b[0mMaxNLocator\u001b[0m\u001b[0;34m(\u001b[0m\u001b[0mnbins\u001b[0m\u001b[0;34m=\u001b[0m\u001b[0;36m5\u001b[0m\u001b[0;34m,\u001b[0m \u001b[0mprune\u001b[0m\u001b[0;34m=\u001b[0m\u001b[0;34m\"lower\"\u001b[0m\u001b[0;34m)\u001b[0m\u001b[0;34m)\u001b[0m\u001b[0;34m\u001b[0m\u001b[0;34m\u001b[0m\u001b[0m\n\u001b[0;32m---> 15\u001b[0;31m     \u001b[0max\u001b[0m\u001b[0;34m.\u001b[0m\u001b[0mplot\u001b[0m\u001b[0;34m(\u001b[0m\u001b[0mX\u001b[0m\u001b[0;34m[\u001b[0m\u001b[0mi\u001b[0m\u001b[0;34m[\u001b[0m\u001b[0;36m0\u001b[0m\u001b[0;34m]\u001b[0m\u001b[0;34m]\u001b[0m\u001b[0;34m,\u001b[0m \u001b[0mY\u001b[0m\u001b[0;34m[\u001b[0m\u001b[0mi\u001b[0m\u001b[0;34m[\u001b[0m\u001b[0;36m1\u001b[0m\u001b[0;34m]\u001b[0m\u001b[0;34m]\u001b[0m\u001b[0;34m,\u001b[0m \u001b[0mZ\u001b[0m\u001b[0;34m[\u001b[0m\u001b[0mi\u001b[0m\u001b[0;34m]\u001b[0m\u001b[0;34m,\u001b[0m \u001b[0mc\u001b[0m\u001b[0;34m=\u001b[0m\u001b[0;34m\"red\"\u001b[0m\u001b[0;34m,\u001b[0m \u001b[0mmarker\u001b[0m\u001b[0;34m=\u001b[0m\u001b[0;34m\"*\"\u001b[0m\u001b[0;34m,\u001b[0m \u001b[0mlabel\u001b[0m\u001b[0;34m=\u001b[0m\u001b[0;34m\"best params\"\u001b[0m\u001b[0;34m,\u001b[0m \u001b[0mzorder\u001b[0m\u001b[0;34m=\u001b[0m\u001b[0;36m10\u001b[0m\u001b[0;34m)\u001b[0m\u001b[0;34m\u001b[0m\u001b[0;34m\u001b[0m\u001b[0m\n\u001b[0m\u001b[1;32m     16\u001b[0m     \u001b[0mplt\u001b[0m\u001b[0;34m.\u001b[0m\u001b[0mlegend\u001b[0m\u001b[0;34m(\u001b[0m\u001b[0;34m)\u001b[0m\u001b[0;34m\u001b[0m\u001b[0;34m\u001b[0m\u001b[0m\n\u001b[1;32m     17\u001b[0m     \u001b[0mplt\u001b[0m\u001b[0;34m.\u001b[0m\u001b[0mxticks\u001b[0m\u001b[0;34m(\u001b[0m\u001b[0mfontsize\u001b[0m\u001b[0;34m=\u001b[0m\u001b[0;36m13\u001b[0m\u001b[0;34m)\u001b[0m\u001b[0;34m\u001b[0m\u001b[0;34m\u001b[0m\u001b[0m\n",
      "\u001b[0;31mTypeError\u001b[0m: 'int' object is not subscriptable"
     ]
    }
   ],
   "source": [
    "# Make a nice plot\n",
    "def plot_energy_landscape(X, Y, Z, i, above = False):\n",
    "    from matplotlib import cm\n",
    "    from matplotlib.ticker import MaxNLocator\n",
    "    name = 'Average cost'\n",
    "    #fig = plt.figure(np.random.randint(51, 60), figsize=(12, 8), constrained_layout=True)\n",
    "    ax = fig.add_subplot(projection=\"3d\")\n",
    "    xx, yy = np.meshgrid(X, Y, indexing='ij')\n",
    "    surf = ax.plot_surface(xx, yy, Z, cmap=cm.BrBG, antialiased=False)\n",
    "    ax.set_xlabel(r\"$\\gamma$ (cost parameter)\", fontsize=13)\n",
    "    ax.set_ylabel(r\"$\\beta$ (mixer parameter)\", fontsize=13)\n",
    "    ax.set_zlabel(name, fontsize=13)\n",
    "    ax.zaxis.set_label_coords(-1,1)\n",
    "    ax.zaxis.set_major_locator(MaxNLocator(nbins=5, prune=\"lower\"))\n",
    "    ax.plot(X[i[0]], Y[i[1]], Z[i], c=\"red\", marker=\"*\", label=\"best params\", zorder=10)\n",
    "    plt.legend()\n",
    "    plt.xticks(fontsize=13)\n",
    "    plt.yticks(fontsize=13)\n",
    "    plt.title(r'Best params: $\\gamma$ ' + str(X[i[0]]) + r', $\\beta$ ' + str(Y[i[1]]))\n",
    "    if above:\n",
    "        ax.view_init(azim=0, elev=90)\n",
    "\n",
    "plot_energy_landscape(X, Y, Z, i, above = False)"
   ]
  },
  {
   "cell_type": "code",
   "execution_count": 9,
   "id": "be2673f9",
   "metadata": {},
   "outputs": [
    {
     "name": "stdout",
     "output_type": "stream",
     "text": [
      "Best parameters from grid search:\n",
      " [[-0.31733259]\n",
      " [-2.72906028]]\n",
      "\n",
      "Average cost for the best parameters:\n",
      " -1.4000406837273802\n"
     ]
    }
   ],
   "source": [
    "# The best parameters after the gris search\n",
    "best_params_grid_search = np.array([[X[i[0]]], [Y[i[1]]]])\n",
    "print('Best parameters from grid search:\\n', best_params_grid_search)\n",
    "print()\n",
    "print('Average cost for the best parameters:\\n', average_cost(best_params_grid_search))\n"
   ]
  },
  {
   "cell_type": "code",
   "execution_count": 10,
   "id": "ec6d4b18",
   "metadata": {},
   "outputs": [
    {
     "data": {
      "text/plain": [
       "<BarContainer object of 16 artists>"
      ]
     },
     "execution_count": 10,
     "metadata": {},
     "output_type": "execute_result"
    },
    {
     "data": {
      "image/png": "[encoded data removed]",
      "text/plain": [
       "<Figure size 576x396 with 1 Axes>"
      ]
     },
     "metadata": {},
     "output_type": "display_data"
    }
   ],
   "source": [
    "# What does the numbers mean? We want answers to the Minimum vertex cover\n",
    "\n",
    "# Probability of measuring the different answers\n",
    "@qml.qnode(dev)\n",
    "def probability_circuit(params):\n",
    "    circuit(params)\n",
    "    return qml.probs(wires=qubits)\n",
    "\n",
    "probs = probability_circuit(best_params_grid_search)\n",
    "plt.style.use(\"seaborn\")\n",
    "plt.bar(range(2 ** len(qubits)), probs)"
   ]
  },
  {
   "cell_type": "markdown",
   "id": "80fda64a",
   "metadata": {},
   "source": [
    "State 6 = 0110 and 10 = 1010 have the highest probability of beaing measured. Which are the best ones!"
   ]
  },
  {
   "cell_type": "code",
   "execution_count": 11,
   "id": "04dc7f50",
   "metadata": {},
   "outputs": [
    {
     "data": {
      "image/png": "[encoded data removed]",
      "text/plain": [
       "<Figure size 576x396 with 1 Axes>"
      ]
     },
     "metadata": {},
     "output_type": "display_data"
    }
   ],
   "source": [
    "color_map_6 = ['red', 'blue', 'red', 'blue']\n",
    "color_map_10 = ['blue', 'red', 'red', 'blue']\n",
    "\n",
    "nx.draw(graph, node_color=color_map_6, with_labels=True)\n",
    "nx.draw(graph, node_color=color_map_10, with_labels=True)\n",
    "\n",
    "# They are mirrored!"
   ]
  },
  {
   "cell_type": "markdown",
   "id": "995ae972",
   "metadata": {},
   "source": [
    "## Optimisation\n",
    "Grid search is hard when p is above 2. The higher the p the better (kinda)).\n",
    "\n",
    "We could do it with a smarter algorithm, let's borrow some from Machine learning: gradient descent!"
   ]
  },
  {
   "cell_type": "code",
   "execution_count": 12,
   "id": "429d741b",
   "metadata": {},
   "outputs": [
    {
     "name": "stdout",
     "output_type": "stream",
     "text": [
      "Optimal parameters:\n",
      " [[0.59805356 0.94199357]\n",
      " [0.52797309 0.85553493]]\n",
      "Average cost for the best parameters:\n",
      " -1.5720009432822595\n"
     ]
    }
   ],
   "source": [
    "optimiser = qml.GradientDescentOptimizer()\n",
    "steps = 100\n",
    "#initial_params = np.array([[0.5], [0.5]], requires_grad = True)\n",
    "#p = 1\n",
    "initial_params = np.array([[0.5, 0.5], [0.5, 0.5]], requires_grad = True)\n",
    "p = 2\n",
    "\n",
    "params = initial_params\n",
    "\n",
    "for i in range(steps):\n",
    "    params = optimiser.step(average_cost, params)\n",
    "    \n",
    "best_params_optimisation = params\n",
    "print('Optimal parameters:\\n', best_params_optimisation)\n",
    "print('Average cost for the best parameters:\\n', average_cost(best_params_optimisation))"
   ]
  },
  {
   "cell_type": "code",
   "execution_count": 13,
   "id": "58df12ab",
   "metadata": {},
   "outputs": [
    {
     "name": "stdout",
     "output_type": "stream",
     "text": [
      "Optimal parameters:\n",
      " [[0.59805356 0.94199357]\n",
      " [0.52797309 0.85553493]]\n",
      "Average cost for the best parameters:\n",
      " -1.5720009432822595\n"
     ]
    }
   ],
   "source": [
    "# What did we do? Let's plot it! A walk in the energy landscape.\n",
    "\n",
    "# We want to save more info\n",
    "cost_vector = np.zeros(steps)\n",
    "cost_vector[0] = average_cost(initial_params)\n",
    "params_vector = np.zeros((steps, 2, p))\n",
    "\n",
    "params = initial_params\n",
    "for i in range(steps):\n",
    "    params_vector[i] = params\n",
    "    params, cost_ = optimiser.step_and_cost(average_cost, params)\n",
    "    cost_vector[i] = cost_\n",
    "\n",
    "best_params_optimisation = params\n",
    "print('Optimal parameters:\\n', best_params_optimisation)\n",
    "print('Average cost for the best parameters:\\n', average_cost(best_params_optimisation))"
   ]
  },
  {
   "cell_type": "code",
   "execution_count": 14,
   "id": "fb846d14",
   "metadata": {},
   "outputs": [
    {
     "data": {
      "text/plain": [
       "Text(0.5, 1.0, 'Optimisation of $\\\\gamma$ and $\\\\beta$ with Average cost')"
      ]
     },
     "execution_count": 14,
     "metadata": {},
     "output_type": "execute_result"
    },
    {
     "data": {
      "image/png": "[encoded data removed]",
      "text/plain": [
       "<Figure size 576x396 with 1 Axes>"
      ]
     },
     "metadata": {},
     "output_type": "display_data"
    }
   ],
   "source": [
    "plt.style.use(\"seaborn\")\n",
    "plt.plot(cost_vector)\n",
    "plt.xlabel('Steps', fontsize = 15)\n",
    "plt.ylabel('Cost', fontsize = 15)\n",
    "plt.title(r'Optimisation of $\\gamma$ and $\\beta$ with ' + name, fontsize = 15)"
   ]
  },
  {
   "cell_type": "code",
   "execution_count": 15,
   "id": "3cb39ffa",
   "metadata": {},
   "outputs": [
    {
     "data": {
      "text/plain": [
       "<BarContainer object of 16 artists>"
      ]
     },
     "execution_count": 15,
     "metadata": {},
     "output_type": "execute_result"
    },
    {
     "data": {
      "image/png": "[encoded data removed]",
      "text/plain": [
       "<Figure size 576x396 with 1 Axes>"
      ]
     },
     "metadata": {},
     "output_type": "display_data"
    }
   ],
   "source": [
    "probs = probability_circuit(best_params_optimisation)\n",
    "plt.style.use(\"seaborn\")\n",
    "plt.bar(range(2 ** len(qubits)), probs)\n",
    "\n",
    "# we won't get 6 and 10 if p=1, we need p=2 (given this optimiser and hyperparameters)."
   ]
  },
  {
   "cell_type": "markdown",
   "id": "bf263caa",
   "metadata": {},
   "source": [
    "Optimisation in energy landscape. Maybe skip?"
   ]
  },
  {
   "cell_type": "markdown",
   "id": "bccff4fe",
   "metadata": {},
   "source": [
    "## Optimisation function\n",
    "What if we had another function to optimise over?\n"
   ]
  },
  {
   "cell_type": "markdown",
   "id": "1de0e66d",
   "metadata": {},
   "source": [
    "Real world example (my research): Protein folding"
   ]
  }
 ],
 "metadata": {
  "kernelspec": {
   "display_name": "Python 3 (ipykernel)",
   "language": "python",
   "name": "python3"
  },
  "language_info": {
   "codemirror_mode": {
    "name": "ipython",
    "version": 3
   },
   "file_extension": ".py",
   "mimetype": "text/x-python",
   "name": "python",
   "nbconvert_exporter": "python",
   "pygments_lexer": "ipython3",
   "version": "3.8.10"
  }
 },
 "nbformat": 4,
 "nbformat_minor": 5
}
